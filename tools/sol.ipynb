{
 "cells": [
  {
   "cell_type": "markdown",
   "metadata": {},
   "source": [
    "# LLM inference Speed of Light measurements\n",
    "\n",
    "This document will estimate speed of light for LLM inference, assuming a transformer autoregressive architecture. We will only look at the token generation phase (and ignore prompt processing)."
   ]
  },
  {
   "cell_type": "code",
   "execution_count": 26,
   "metadata": {},
   "outputs": [],
   "source": [
    "# for consistency we will assume HF-compatible hyper-parameter names\n",
    "class Model():\n",
    "    def __init__(self, name, hidden_size, intermediate_size, num_attention_heads, num_key_value_heads, num_hidden_layers, vocab_size, num_ffn=3, tied_embeddings=False):\n",
    "        self.name = name\n",
    "        self.hidden_size = hidden_size\n",
    "        self.intermediate_size = intermediate_size\n",
    "        self.num_attention_heads = num_attention_heads\n",
    "        self.num_key_value_heads = num_key_value_heads\n",
    "        self.num_hidden_layers = num_hidden_layers\n",
    "        self.vocab_size = vocab_size\n",
    "        self.num_ffn = num_ffn\n",
    "        self.tied_embeddings = tied_embeddings\n",
    "\n",
    "    def params(self):\n",
    "        # for simplicity we omit normalization layers and biases\n",
    "        dim = self.hidden_size\n",
    "        kvdim = dim // self.num_attention_heads * self.num_key_value_heads\n",
    "        res = 0\n",
    "        res += self.vocab_size * dim # embed\n",
    "        res += self.num_hidden_layers * dim * dim # attn query\n",
    "        res += self.num_hidden_layers * dim * kvdim * 2 # attn key, value\n",
    "        res += self.num_hidden_layers * dim * dim # attn output\n",
    "        res += self.num_hidden_layers * dim * self.intermediate_size * self.num_ffn # ffn\n",
    "        if not self.tied_embeddings:\n",
    "            res += self.vocab_size * dim # output\n",
    "        return res\n",
    "\n",
    "    def __str__(self):\n",
    "        return f'{self.name} {self.params()/1e9:.1f}B'"
   ]
  },
  {
   "cell_type": "code",
   "execution_count": 30,
   "metadata": {},
   "outputs": [
    {
     "data": {
      "text/plain": [
       "('Llama-7b 6.7B',\n",
       " 'Llama-70b 69.0B',\n",
       " 'Mistral-7b 7.2B',\n",
       " 'opt-7b 6.6B',\n",
       " 'phi-2 2.8B')"
      ]
     },
     "execution_count": 30,
     "metadata": {},
     "output_type": "execute_result"
    }
   ],
   "source": [
    "# let's declare a few model configurations and print their sizes\n",
    "llama7b = Model('Llama-7b', 4096, 11008, 32, 32, 32, 32000)\n",
    "llama70b = Model('Llama-70b', 8192, 28672, 64, 8, 80, 32000)\n",
    "mistral7b = Model('Mistral-7b', 4096, 14336, 32, 8, 32, 32000)\n",
    "opt7b = Model('opt-7b', 4096, 16384, 32, 32, 32, 50272, num_ffn=2, tied_embeddings=True)\n",
    "phi2 = Model('phi-2', 2560, 10240, 32, 32, 32, 51200, num_ffn=2)\n",
    "\n",
    "str(llama7b), str(llama70b), str(mistral7b), str(opt7b), str(phi2)"
   ]
  },
  {
   "cell_type": "code",
   "execution_count": 33,
   "metadata": {},
   "outputs": [
    {
     "data": {
      "text/plain": [
       "(1073741824, 268435456)"
      ]
     },
     "execution_count": 33,
     "metadata": {},
     "output_type": "execute_result"
    }
   ],
   "source": [
    "# when running model inference, after every token we store intermediate k/v in kv cache\n",
    "# note that the use of GQA (group query attention) significantly reduces kv cache size\n",
    "def kvcache(model, seq_len, batch_size):\n",
    "    dim = model.hidden_size\n",
    "    kvdim = dim // model.num_attention_heads * model.num_key_value_heads\n",
    "    return batch_size * model.num_hidden_layers * seq_len * kvdim * 2\n",
    "\n",
    "kvcache(llama7b, 4096, 1), kvcache(mistral7b, 4096, 1)"
   ]
  },
  {
   "cell_type": "code",
   "execution_count": 37,
   "metadata": {},
   "outputs": [],
   "source": [
    "# when running inference in auto-regressive mode, we need to read both model and kv cache\n",
    "def bandwidth(model, seq_len, batch_size, modelbits=16, cachebits=16):\n",
    "    return int(model.params() * modelbits / 8) + int(kvcache(model, seq_len, batch_size) * cachebits / 8)\n",
    "\n",
    "# we also need to do computations on both model and kv cache\n",
    "# every element we read from either will use 2 flops as it participates in one FMA\n",
    "# (there are a few other ops like softmax that aren't significant for large models)\n",
    "def flops(model, seq_len, batch_size):\n",
    "    return model.params() * batch_size * 2 + kvcache(model, seq_len, batch_size) * 2"
   ]
  },
  {
   "cell_type": "code",
   "execution_count": 117,
   "metadata": {},
   "outputs": [
    {
     "data": {
      "text/plain": [
       "1009.9109603207517"
      ]
     },
     "execution_count": 117,
     "metadata": {},
     "output_type": "execute_result"
    }
   ],
   "source": [
    "bs = 16\n",
    "bs/(bandwidth(llama7b, 2048, bs) / 1935e9)"
   ]
  },
  {
   "cell_type": "code",
   "execution_count": 120,
   "metadata": {},
   "outputs": [
    {
     "data": {
      "text/plain": [
       "1305.8382827701607"
      ]
     },
     "execution_count": 120,
     "metadata": {},
     "output_type": "execute_result"
    }
   ],
   "source": [
    "bs = 16\n",
    "bs/(flops(llama7b, 2048, bs) / 19e12)"
   ]
  }
 ],
 "metadata": {
  "kernelspec": {
   "display_name": "Python 3",
   "language": "python",
   "name": "python3"
  },
  "language_info": {
   "codemirror_mode": {
    "name": "ipython",
    "version": 3
   },
   "file_extension": ".py",
   "mimetype": "text/x-python",
   "name": "python",
   "nbconvert_exporter": "python",
   "pygments_lexer": "ipython3",
   "version": "3.11.6"
  }
 },
 "nbformat": 4,
 "nbformat_minor": 2
}
